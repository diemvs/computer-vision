{
 "cells": [
  {
   "cell_type": "code",
   "execution_count": 1,
   "metadata": {},
   "outputs": [
    {
     "name": "stdout",
     "output_type": "stream",
     "text": [
      "Requirement already satisfied: opencv-python in /Users/diemvs/anaconda3/envs/cv/lib/python3.10/site-packages (4.10.0.84)\n",
      "Requirement already satisfied: numpy in /Users/diemvs/anaconda3/envs/cv/lib/python3.10/site-packages (2.2.1)\n"
     ]
    }
   ],
   "source": [
    "! pip install opencv-python numpy"
   ]
  },
  {
   "cell_type": "code",
   "execution_count": null,
   "metadata": {},
   "outputs": [
    {
     "name": "stdout",
     "output_type": "stream",
     "text": [
      "Обработанное видео сохранено как: output_video.mp4\n"
     ]
    }
   ],
   "source": [
    "import cv2\n",
    "import numpy as np\n",
    "import os\n",
    "\n",
    "# --- Загружаем видео ---\n",
    "video_path = \"video.mp4\"  \n",
    "cap = cv2.VideoCapture(video_path)\n",
    "\n",
    "# --- Проверяем, открылось ли видео ---\n",
    "if not cap.isOpened():\n",
    "    print(f\"Ошибка: не удалось открыть видеофайл {video_path}\")\n",
    "    exit()\n",
    "\n",
    "# --- Читаем первый кадр ---\n",
    "ret, old_frame = cap.read()\n",
    "if not ret:\n",
    "    print(\"Ошибка: не удалось считать первый кадр.\")\n",
    "    cap.release()\n",
    "    exit()\n",
    "\n",
    "old_gray = cv2.cvtColor(old_frame, cv2.COLOR_BGR2GRAY)\n",
    "\n",
    "# --- Определяем ключевые точки методом Shi-Tomasi ---\n",
    "feature_params = dict(maxCorners=100, qualityLevel=0.3, minDistance=7, blockSize=7)\n",
    "p0 = cv2.goodFeaturesToTrack(old_gray, mask=None, **feature_params)\n",
    "\n",
    "# --- Параметры Лукаса-Канаде ---\n",
    "lk_params = dict(winSize=(15, 15), maxLevel=2,\n",
    "                 criteria=(cv2.TERM_CRITERIA_EPS | cv2.TERM_CRITERIA_COUNT, 10, 0.03))\n",
    "\n",
    "# --- Создаем маску для отрисовки траекторий ---\n",
    "mask = np.zeros_like(old_frame)\n",
    "\n",
    "# --- Настройки записи видео ---\n",
    "output_video_path = \"output_video.mp4\"\n",
    "frame_width = int(cap.get(3))  # Ширина кадра\n",
    "frame_height = int(cap.get(4))  # Высота кадра\n",
    "fps = int(cap.get(cv2.CAP_PROP_FPS))  # FPS исходного видео\n",
    "\n",
    "# --- Кодек H.264 для `.mp4` ---\n",
    "fourcc = cv2.VideoWriter_fourcc(*'mp4v')  # Используем H.264 (mp4v)\n",
    "out = cv2.VideoWriter(output_video_path, fourcc, fps, (frame_width, frame_height))\n",
    "\n",
    "# --- Обработка видео ---\n",
    "while True:\n",
    "    ret, frame = cap.read()\n",
    "    if not ret:\n",
    "        break  # Выход, если видео закончилось\n",
    "\n",
    "    frame_gray = cv2.cvtColor(frame, cv2.COLOR_BGR2GRAY)\n",
    "\n",
    "    # --- Оптический поток методом Лукаса-Канаде ---\n",
    "    p1, st, err = cv2.calcOpticalFlowPyrLK(old_gray, frame_gray, p0, None, **lk_params)\n",
    "\n",
    "    # Отбираем успешные точки\n",
    "    if p1 is not None and st is not None:\n",
    "        good_new = p1[st == 1]\n",
    "        good_old = p0[st == 1]\n",
    "\n",
    "        # --- Отрисовка траекторий ---\n",
    "        for i, (new, old) in enumerate(zip(good_new, good_old)):\n",
    "            a, b = new.ravel()\n",
    "            c, d = old.ravel()\n",
    "            cv2.line(mask, (int(a), int(b)), (int(c), int(d)), (0, 255, 0), 2)  # Линии движения\n",
    "            cv2.circle(frame, (int(a), int(b)), 5, (0, 0, 255), -1)  # Текущие точки\n",
    "\n",
    "        # Обновляем точки\n",
    "        p0 = good_new.reshape(-1, 1, 2)\n",
    "\n",
    "    # Объединяем кадр с маской\n",
    "    output = cv2.add(frame, mask)\n",
    "\n",
    "    # --- Записываем обработанный кадр в видеофайл ---\n",
    "    out.write(output)\n",
    "\n",
    "    # Обновляем предыдущий кадр\n",
    "    old_gray = frame_gray.copy()\n",
    "\n",
    "# --- Закрываем файлы ---\n",
    "cap.release()\n",
    "out.release()\n",
    "cv2.destroyAllWindows()\n",
    "\n",
    "print(f\"Обработанное видео сохранено как: {output_video_path}\")"
   ]
  }
 ],
 "metadata": {
  "kernelspec": {
   "display_name": "cv",
   "language": "python",
   "name": "python3"
  },
  "language_info": {
   "codemirror_mode": {
    "name": "ipython",
    "version": 3
   },
   "file_extension": ".py",
   "mimetype": "text/x-python",
   "name": "python",
   "nbconvert_exporter": "python",
   "pygments_lexer": "ipython3",
   "version": "3.10.16"
  }
 },
 "nbformat": 4,
 "nbformat_minor": 2
}
